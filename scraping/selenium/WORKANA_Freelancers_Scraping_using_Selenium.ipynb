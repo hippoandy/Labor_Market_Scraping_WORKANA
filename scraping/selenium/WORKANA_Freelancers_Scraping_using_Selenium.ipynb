{
 "cells": [
  {
   "cell_type": "code",
   "execution_count": 1,
   "metadata": {},
   "outputs": [
    {
     "data": {
      "text/plain": [
       "'\\nThis program scraps the information from the freelancers section of the WORKANA website.\\nThis program utilizes the Selenium library for web scraping, which enables the program to change conditions or\\nfilters the website provided to show different result\\n\\nAuthor: Yu-Chang (Andy) Ho\\nDate: 2018/11/27\\n'"
      ]
     },
     "execution_count": 1,
     "metadata": {},
     "output_type": "execute_result"
    }
   ],
   "source": [
    "'''\n",
    "This program scraps the information from the freelancers section of the WORKANA website.\n",
    "This program utilizes the Selenium library for web scraping, which enables the program to change conditions or\n",
    "filters the website provided to show different result\n",
    "\n",
    "Author: Yu-Chang (Andy) Ho\n",
    "Date: 2018/11/27\n",
    "'''"
   ]
  },
  {
   "cell_type": "code",
   "execution_count": 2,
   "metadata": {},
   "outputs": [
    {
     "name": "stdout",
     "output_type": "stream",
     "text": [
      "This section import the required libaries.\n"
     ]
    }
   ],
   "source": [
    "# import the required libraries\n",
    "from selenium import webdriver\n",
    "# the library to control program exection at run time\n",
    "import time\n",
    "import pandas as pd\n",
    "import numpy as np\n",
    "\n",
    "print( 'This section import the required libaries.' )"
   ]
  },
  {
   "cell_type": "code",
   "execution_count": 3,
   "metadata": {},
   "outputs": [
    {
     "name": "stdout",
     "output_type": "stream",
     "text": [
      "Here are the parameters that able to be modified.\n"
     ]
    }
   ],
   "source": [
    "# parameter settings --------------------------------------------------\n",
    "\n",
    "# the keyword which to perform a search\n",
    "# as an example, we are scraping the freelancers who is familiar with SQL language\n",
    "KEY_search = 'SQL'\n",
    "\n",
    "# the target URL\n",
    "URL_target = 'https://www.workana.com/freelancers'\n",
    "\n",
    "# time to wait for the page to refresh\n",
    "# to make sure the changes applied to the website and allow the page to reload\n",
    "TIME_pending = 2\n",
    "\n",
    "# path of the output file\n",
    "PATH_output = './result.csv'\n",
    "\n",
    "# the search results will be seperated into multiple subpages\n",
    "# this is a large number to cover all the page number\n",
    "limit = 3\n",
    "\n",
    "# -------------------------------------------------- parameter settings\n",
    "\n",
    "print( 'Here are the parameters that able to be modified.' )"
   ]
  },
  {
   "cell_type": "code",
   "execution_count": 4,
   "metadata": {},
   "outputs": [
    {
     "name": "stdout",
     "output_type": "stream",
     "text": [
      "Here are some function to clear the data value.\n"
     ]
    }
   ],
   "source": [
    "# self-defined functions -------------------------------------------\n",
    "\n",
    "# return the string 'N/A'\n",
    "def invalid_val(): return 'N/A'\n",
    "\n",
    "# make sure there is no special char in a value\n",
    "def clear_str( text ):\n",
    "    text = str(text).replace( '\\n', '' ).replace( '\\r', '' ).replace( '\\t', '' )\n",
    "    return text\n",
    "\n",
    "# replace ',' in the value\n",
    "def clear_comma( text ):\n",
    "    return str(text).replace( ',', '-' )\n",
    "\n",
    "# make sure the value is numeric, otherwise return invalid_val()\n",
    "def numeric( val, type='float' ):\n",
    "    val = str(val) # make sure it is not 'None'\n",
    "    try:\n",
    "        # make sure the value is numeric\n",
    "        if( type == 'int' ): val = int(val)\n",
    "        else: val = float(val)\n",
    "        return str(val)\n",
    "    except: return invalid_val()\n",
    "\n",
    "# ------------------------------------------- self-defined functions\n",
    "\n",
    "print( 'Here are some function to clear the data value.' )"
   ]
  },
  {
   "cell_type": "code",
   "execution_count": 6,
   "metadata": {},
   "outputs": [
    {
     "name": "stdout",
     "output_type": "stream",
     "text": [
      "Loading the chrome driver executable file.\n",
      "This will open up a blank Chrome browser window.\n"
     ]
    }
   ],
   "source": [
    "### load the chrome driver executable\n",
    "\n",
    "# path to the driver executable\n",
    "PATH_chrome_driver = './chrome-driver/chromedriver'\n",
    "# load the driver\n",
    "driver = webdriver.Chrome( PATH_chrome_driver )\n",
    "\n",
    "print( 'Loading the chrome driver executable file.' )\n",
    "print( 'This will open up a blank Chrome browser window.' )"
   ]
  },
  {
   "cell_type": "code",
   "execution_count": 7,
   "metadata": {},
   "outputs": [
    {
     "name": "stdout",
     "output_type": "stream",
     "text": [
      "Preparing the data storage.\n"
     ]
    }
   ],
   "source": [
    "###  prepare the temporary storage\n",
    "\n",
    "# header\n",
    "header = ['name', 'country', 'rating', 'is_pro', 'hourly_rate', 'completed_jobs', 'hours_worked', 'skills']\n",
    "# dataframe to contain the data\n",
    "df = pd.DataFrame( columns=header )\n",
    "\n",
    "print( 'Preparing the data storage.' )"
   ]
  },
  {
   "cell_type": "code",
   "execution_count": 8,
   "metadata": {},
   "outputs": [
    {
     "name": "stdout",
     "output_type": "stream",
     "text": [
      "                      name    country rating is_pro hourly_rate  \\\n",
      "0         ICETEC Solutions     Brazil      1    5.0       100.0   \n",
      "1                 Bruno H.     Brazil      1   4.68         N/A   \n",
      "2          Héctor F. V. T.     Brazil      1   4.97       150.0   \n",
      "3            Valter Junior     Brazil      0    5.0        80.0   \n",
      "4               Juninho M.     Brazil      1   4.94        39.0   \n",
      "5               Houri Tech     Brazil      1    5.0        12.0   \n",
      "6              Hildegar M.  Venezuela      0   4.94         8.0   \n",
      "7             Miguel A. H.  Guatemala      1   4.77        20.0   \n",
      "8             John Vercosa     Brazil      1    5.0        21.0   \n",
      "9                 David P.     Mexico      1    5.0       290.0   \n",
      "10          Ewerton Amorim     Brazil      1   4.75        70.0   \n",
      "11               Willey N.     Brazil      1    5.0        20.0   \n",
      "12          ELSYS G. F. Z.  Venezuela      0    4.5         N/A   \n",
      "13              Roberto C.     Mexico      0    4.0         N/A   \n",
      "14                dario a.    Ecuador      1    5.0        24.0   \n",
      "15            Rudy Thereze  Venezuela      1    5.0         N/A   \n",
      "16  MyStore - Crie Seu App     Brazil      1   4.94        90.0   \n",
      "17              Herikle M.     Brazil      1    5.0        25.0   \n",
      "18            Sebastián K.  Argentina      0    5.0       250.0   \n",
      "19        Carlos dornelles     Brazil      1    5.0        40.0   \n",
      "\n",
      "   completed_jobs hours_worked  \\\n",
      "0              18           38   \n",
      "1              24            0   \n",
      "2              85            0   \n",
      "3               1            0   \n",
      "4             148            0   \n",
      "5               5            0   \n",
      "6              12           36   \n",
      "7              45           61   \n",
      "8               8            0   \n",
      "9              14            0   \n",
      "10              7            0   \n",
      "11             11            0   \n",
      "12              1           10   \n",
      "13              1            0   \n",
      "14              9            4   \n",
      "15              3            0   \n",
      "16             20            0   \n",
      "17              8            0   \n",
      "18              1            0   \n",
      "19              8            0   \n",
      "\n",
      "                                               skills  \n",
      "0   C#|ANDROID|IONIC FRAMEWORK|WEB SERVICES|LARAVE...  \n",
      "1                ANDROID|IOS|JAVA|SQL|IONIC FRAMEWORK  \n",
      "2   FINANCIAL ANALYSIS|RISK MANAGEMENT|VBA|MICROSO...  \n",
      "3   PHP|SYMFONY|WEB DESIGN|API|HTML|JAVASCRIPT|LIN...  \n",
      "4   CSS|WORDPRESS|PROGRAMACIÓN WEB|WOOCOMMERCE|SEO...  \n",
      "5   JQUERY|PHP|WORDPRESS|HTML5|CSS3|CODEIGNITER|CP...  \n",
      "6   HTML5|JAVASCRIPT|CSS3|JQUERY|BOOTSTRAP|PHP|WOR...  \n",
      "7   ADOBE PHOTOSHOP|.NET|ADOBE ILLUSTRATOR|JAVA|C+...  \n",
      "8   PHP|WORDPRESS|JOOMLA!|WOOCOMMERCE|SHOPIFY|CSS|...  \n",
      "9   JAVASCRIPT|AJAX|HTML5|JAVA|JQUERY|JSON|MYSQL|P...  \n",
      "10  API|DJANGO|PYTHON|AJAX|MICROSOFT EXCEL|SQL|BOO...  \n",
      "11             JAVASCRIPT|HTML5|CSS3|CSS|HTML|PHP|SQL  \n",
      "12  JAVA|PROGRAMACIÓN WEB|EDUCATION & TUTORING|PHP...  \n",
      "13  ASPNET|PROGRAMACIÓN WEB|ANGULARJS|HTML5|ERP|AN...  \n",
      "14  ANDROID|CODEIGNITER|C#|HTML5|IOS|JAVA|JAVASCRI...  \n",
      "15  JAVASCRIPT|PHP|PROGRAMACIÓN WEB|IONIC FRAMEWOR...  \n",
      "16  PROGRAMACIÓN WEB|E-COMMERCE|E-MAIL MARKETING|....  \n",
      "17  WEB SERVICES|SYSTEM PROGRAMMING|DATABASE|SQL|D...  \n",
      "18                               SQL|.NET|C#|HTML|MVC  \n",
      "19  .NET|DESKTOP APPS|C#|API|SOAP|SQL|WEB SERVICES...  \n"
     ]
    }
   ],
   "source": [
    "### function to scrap the content from the page\n",
    "def scrap():\n",
    "    global df\n",
    "    res = None\n",
    "    try:\n",
    "        # test if the list of freelancers exist\n",
    "        # the element \"#workers > div.js-worker\" contains the list of the freelancers\n",
    "        res = driver.find_elements_by_css_selector( '#workers > div.js-worker' )\n",
    "    except: return # the page is empty\n",
    "\n",
    "    # for each subpage, there are 10 results shown\n",
    "    looker = 0  # location indicator (no. of row)\n",
    "    for e in res:\n",
    "        row = []\n",
    "        # get the name of the applicant\n",
    "        name = e.find_element_by_css_selector( 'div.row > div.col-sm-7 > div.row > div.worker-details > h3 > a' ).text\n",
    "        name = clear_comma( clear_str( name ) )\n",
    "        row.append( name )\n",
    "\n",
    "        # get the nationality information\n",
    "        country = e.find_element_by_css_selector( 'div.row > div.col-sm-7 > div.row > div.worker-details > div.row > div > span.country > span > a' ).text\n",
    "        country = clear_comma( clear_str( country ) )\n",
    "        row.append( country )\n",
    "\n",
    "        # if a applicant is tagged as 'Pro'\n",
    "        is_pro = 0\n",
    "        try:\n",
    "            e.find_element_by_css_selector( 'div.row > div.col-sm-7 > div.row > div.worker-details > h3 > span.pro-label' )\n",
    "            is_pro = 1\n",
    "        except: pass\n",
    "        is_pro = str(is_pro)\n",
    "        row.append( is_pro )\n",
    "\n",
    "        # the applicant rating\n",
    "        rating = e.find_element_by_css_selector( 'div.row > div.col-sm-7 > div.row > div.worker-details > label > span.profile-stars > span.stars-bg' ).get_attribute( 'title' )\n",
    "        rating = str(rating).replace( ' of 5.00', '' )\n",
    "        rating = str(numeric( clear_comma( rating ) ))\n",
    "        row.append( rating )\n",
    "\n",
    "        # get the set of skills\n",
    "        skills = e.find_elements_by_css_selector( 'div.row > div.col-sm-7 > div.row.hidden-xs > div.col-sm-12 > div.skills > div.expander > a' )\n",
    "        collection = []\n",
    "        # collect the skills the current freelancer has\n",
    "        for s in skills: collection.append( clear_comma( s.text ) )\n",
    "        skills = '|'.join( collection )\n",
    "\n",
    "        # hourly rate information\n",
    "        hourly_rate = 'N/A'  # set the default value\n",
    "        try:\n",
    "            hourly_rate = e.find_element_by_css_selector( 'div.row > div.col-sm-5 > div.row > div.worker-details > h4 > span > span' )\n",
    "            # make sure the value is numeric\n",
    "            hourly_rate = str(numeric( clear_comma( clear_str( str(hourly_rate.text) ) ) ))\n",
    "        except: pass\n",
    "        row.append( hourly_rate )\n",
    "\n",
    "        # completed_projects and hour_worked\n",
    "        exp = e.find_elements_by_css_selector( 'div.row > div.col-sm-5 > div.row > div.worker-details > p > span' )\n",
    "        c = 0\n",
    "        projects = hours = invalid_val()\n",
    "        for e in exp:\n",
    "            if( 'Completed' in e.text ): projects = str(numeric( clear_comma( clear_str( str(e.text).replace( 'Completed projects: ', '' ) ) ), 'int' ))\n",
    "            else: hours = str(numeric( clear_comma( clear_str( str(e.text).replace( 'Hours worked in hourly projects: ', '' ) ) ), 'int' ))\n",
    "            c += 1\n",
    "            if( c == 2 ): break\n",
    "\n",
    "        row.append( projects )\n",
    "        row.append( hours ) \n",
    "        row.append( skills )\n",
    "        # commit the result\n",
    "        df = df.append( pd.Series( row, index=df.columns ), ignore_index=True )\n",
    "        \n",
    "### function to operate the web UI element on WORKANA webpage\n",
    "\n",
    "# workana.com using input boxes and inputting text.\n",
    "def keyword_search():\n",
    "    driver.get( URL_target )\n",
    "    time.sleep( TIME_pending )\n",
    "\n",
    "    box_input = driver.find_element_by_id( 'Query' )\n",
    "    box_input.send_keys( KEY_search )\n",
    "    \n",
    "    # Using brower's css selector\n",
    "    btn_search = driver.find_element_by_css_selector( '#search-form > div > div.col-sm-8.col-md-9.col-full-left > button' )\n",
    "    # perform the search\n",
    "    btn_search.click()\n",
    "\n",
    "    # wait for the query to be done\n",
    "    time.sleep( TIME_pending )\n",
    "\n",
    "### the main function\n",
    "try:\n",
    "    # open the webpage\n",
    "    keyword_search()\n",
    "\n",
    "    # start scraping\n",
    "    # the first page is already loaded, scrap first\n",
    "    scrap()\n",
    "    # get the modified url and append parameter\n",
    "    cur = driver.current_url\n",
    "    cur += '?page='\n",
    "    for i in range( 2, limit ):\n",
    "        driver.get( cur + str(i) )\n",
    "        time.sleep( TIME_pending )\n",
    "        scrap()\n",
    "    \n",
    "    # show the result\n",
    "    print( df )\n",
    "except KeyboardInterrupt: driver.close()"
   ]
  },
  {
   "cell_type": "code",
   "execution_count": null,
   "metadata": {},
   "outputs": [],
   "source": []
  }
 ],
 "metadata": {
  "kernelspec": {
   "display_name": "Python 3",
   "language": "python",
   "name": "python3"
  },
  "language_info": {
   "codemirror_mode": {
    "name": "ipython",
    "version": 3
   },
   "file_extension": ".py",
   "mimetype": "text/x-python",
   "name": "python",
   "nbconvert_exporter": "python",
   "pygments_lexer": "ipython3",
   "version": "3.6.6"
  }
 },
 "nbformat": 4,
 "nbformat_minor": 2
}
