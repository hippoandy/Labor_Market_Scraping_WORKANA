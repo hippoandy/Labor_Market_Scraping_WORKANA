{
 "cells": [
  {
   "cell_type": "code",
   "execution_count": 28,
   "metadata": {},
   "outputs": [
    {
     "data": {
      "text/plain": [
       "'\\nThis program scraps the information from the freelancers section of the WORKANA website.\\nThis program utilizes the BeautifulSoup 4 library for web scraping.\\n\\nAuthor: Yu-Chang (Andy) Ho\\nDate: 2018/11/27\\n'"
      ]
     },
     "execution_count": 28,
     "metadata": {},
     "output_type": "execute_result"
    }
   ],
   "source": [
    "'''\n",
    "This program scraps the information from the freelancers section of the WORKANA website.\n",
    "This program utilizes the BeautifulSoup 4 library for web scraping.\n",
    "\n",
    "Author: Yu-Chang (Andy) Ho\n",
    "Date: 2018/11/27\n",
    "'''"
   ]
  },
  {
   "cell_type": "code",
   "execution_count": 29,
   "metadata": {},
   "outputs": [
    {
     "name": "stdout",
     "output_type": "stream",
     "text": [
      "This section import the required libaries.\n"
     ]
    }
   ],
   "source": [
    "# import the required libraries\n",
    "from bs4 import BeautifulSoup\n",
    "import requests\n",
    "import pandas as pd\n",
    "import numpy as np\n",
    "\n",
    "print( 'This section import the required libaries.' )"
   ]
  },
  {
   "cell_type": "code",
   "execution_count": 30,
   "metadata": {},
   "outputs": [
    {
     "name": "stdout",
     "output_type": "stream",
     "text": [
      "Here are the parameters that able to be modified.\n"
     ]
    }
   ],
   "source": [
    "# parameters -------------------------------------------------------\n",
    "\n",
    "target_class = 'js-worker'      # the frame containing worker info.\n",
    "\n",
    "country_element = 'span'        # the element containing nationality\n",
    "country_class = 'country-name'\n",
    "rating_element = 'span'         # the element containing rating\n",
    "rating_class = 'stars-bg'\n",
    "pro_element = 'span'            # the element containing pro tag\n",
    "pro_class = 'pro-label'\n",
    "hrrate_element = 'span'         # the element containing hr_rate\n",
    "hrrate_class = 'monetary-amount'\n",
    "experience_element = 'p'        # the element containing experience info.\n",
    "experience_class = 'hidden-xs'\n",
    "skill_element = 'a'             # the element containing skills\n",
    "skill_class = 'skill'\n",
    "\n",
    "# csv header\n",
    "header = 'name,country,rating,is_pro,hourly_rate,completed_jobs,hours_worked,skills'\n",
    "# the website url\n",
    "base_url = 'https://www.workana.com/en/freelancers?page='\n",
    "# a large number to cover all the page number\n",
    "limit = 3\n",
    "\n",
    "# ------------------------------------------------------- parameters\n",
    "\n",
    "print( 'Here are the parameters that able to be modified.' )"
   ]
  },
  {
   "cell_type": "code",
   "execution_count": 31,
   "metadata": {},
   "outputs": [
    {
     "name": "stdout",
     "output_type": "stream",
     "text": [
      "Here are some function to clear the data value.\n"
     ]
    }
   ],
   "source": [
    "# self-defined functions -------------------------------------------\n",
    "def invalid_val(): return 'N/A'\n",
    "# make sure there is no special char in a value\n",
    "def clear_str( text ):\n",
    "    text = str(text).replace( '\\n', '' ).replace( '\\r', '' ).replace( '\\t', '' )\n",
    "    return text\n",
    "# replace ',' in the value\n",
    "def clear_comma( text ):\n",
    "    return str(text).replace( ',', '-' )\n",
    "# make sure the value is numeric, otherwise return invalid_val()\n",
    "def numeric( val, type='float' ):\n",
    "    val = str(val) # make sure it is not 'NoneType'\n",
    "    try:\n",
    "        # make sure the value is numeric\n",
    "        if( type == 'int' ): val = int(val)\n",
    "        else: val = float(val)\n",
    "        return str(val)\n",
    "    except: return invalid_val()\n",
    "# ------------------------------------------- self-defined functions\n",
    "\n",
    "print( 'Here are some function to clear the data value.' )"
   ]
  },
  {
   "cell_type": "code",
   "execution_count": 32,
   "metadata": {},
   "outputs": [
    {
     "name": "stdout",
     "output_type": "stream",
     "text": [
      "Preparing the data storage.\n"
     ]
    }
   ],
   "source": [
    "###  prepare the temporary storage\n",
    "\n",
    "# header\n",
    "header = ['name', 'country', 'rating', 'is_pro', 'hourly_rate', 'completed_jobs', 'hours_worked', 'skills']\n",
    "# dataframe to contain the data\n",
    "df = pd.DataFrame( columns=header )\n",
    "\n",
    "print( 'Preparing the data storage.' )"
   ]
  },
  {
   "cell_type": "code",
   "execution_count": 33,
   "metadata": {},
   "outputs": [
    {
     "name": "stdout",
     "output_type": "stream",
     "text": [
      "                           name        country rating is_pro hourly_rate  \\\n",
      "0                   Veronica S.      Argentina    5.0      1       580.0   \n",
      "1                 Julio Henrick         Brazil   4.89      1        60.0   \n",
      "2                         Sammy         Brazil   4.92      1        60.0   \n",
      "3                    luisana C.      Venezuela   4.95      1         5.0   \n",
      "4                     Hector D.      Venezuela   4.91      0         5.0   \n",
      "5                  Miguel Jaime       Colombia    4.8      1     45000.0   \n",
      "6          Lucas Gabriel Coelho         Brazil   4.77      1        20.0   \n",
      "7            Twixt Technologies          India   4.84      1         5.0   \n",
      "8                     Karina M.         Brazil   4.86      1        20.0   \n",
      "9                   Ana Martins         Brazil   4.73      1        42.0   \n",
      "10            Michelle O. C. S.  United States   4.74      1        15.0   \n",
      "11                  Liz Andreia         Brazil   4.86      1         N/A   \n",
      "12               Laíza Carvalho         Brazil   4.88      1        30.0   \n",
      "13                Lucas Estevam         Brazil   4.76      1        20.0   \n",
      "14                      Dani R.         Brazil   4.96      1        40.0   \n",
      "15                      Luis M.      Venezuela   4.92      1         5.0   \n",
      "16                Valter Junior         Brazil   4.92      1        30.0   \n",
      "17       José Luis Dias Miranda         Brazil   4.85      0        15.0   \n",
      "18                    Bruno Ask         Brazil   4.88      1         N/A   \n",
      "19               Eduardo Castro    El Salvador   4.02      0        15.0   \n",
      "20                    Samuel R.      Venezuela   4.75      1        17.0   \n",
      "21              Gabriel Lizardo      Venezuela   4.85      1        20.0   \n",
      "22           Suzana de Oliveira         Brazil   4.91      1        50.0   \n",
      "23                     Oscar G.      Argentina   4.95      1         N/A   \n",
      "24                      Cris M.         Brazil   4.88      1         N/A   \n",
      "25            Caroline Schwabel       Portugal   4.85      1        20.0   \n",
      "26                    Filipe F.         Brazil    5.0      1        45.0   \n",
      "27             ICETEC Solutions         Brazil    5.0      1       100.0   \n",
      "28                   Carlina H.      Venezuela   4.53      1        18.0   \n",
      "29  Assul Odette Miguel Puertas         Mexico   4.96      1       373.0   \n",
      "\n",
      "   completed_jobs hours_worked  \\\n",
      "0              27            1   \n",
      "1             288           11   \n",
      "2             354            0   \n",
      "3             292          892   \n",
      "4              14            0   \n",
      "5             168            0   \n",
      "6            2501           43   \n",
      "7              24           54   \n",
      "8             903          149   \n",
      "9              71            5   \n",
      "10             58            0   \n",
      "11             85            0   \n",
      "12            355           15   \n",
      "13             74            1   \n",
      "14            159            0   \n",
      "15            218            0   \n",
      "16            208           36   \n",
      "17             70            0   \n",
      "18             63            1   \n",
      "19             44          233   \n",
      "20             16            0   \n",
      "21             94            3   \n",
      "22             98            0   \n",
      "23             19            0   \n",
      "24             48            1   \n",
      "25            492            6   \n",
      "26             13            0   \n",
      "27             18           38   \n",
      "28             88           20   \n",
      "29            214           22   \n",
      "\n",
      "                                               skills  \n",
      "0   b'Spanish Translation'|b'Portuguese'|b'Feature...  \n",
      "1   b'Logo design'|b'Illustration'|b'Corporate Bra...  \n",
      "2   b'Graphic Design'|b'Facebook'|b'Corporate Bran...  \n",
      "3   b'Microsoft Office'|b'English Translation'|b'I...  \n",
      "4   b'C#'|b'CodeIgniter'|b'Ruby on Rails'|b'Androi...  \n",
      "5   b'Branding'|b'Art Direction'|b'Logo design'|b'...  \n",
      "6   b'Adobe Photoshop'|b'Adobe After Effects'|b'Co...  \n",
      "7   b'E-commerce'|b'AngularJS'|b'jQuery'|b'MySQL'|...  \n",
      "8   b'Admin Assistant'|b'Proofreading'|b'Copywriti...  \n",
      "9   b'Article Writing'|b'Online Writing'|b'Adverti...  \n",
      "10  b'Adobe After Effects'|b'Graphic Design'|b'Ado...  \n",
      "11  b'Article Writing'|b'Blogs'|b'WordPress'|b'Cop...  \n",
      "12  b'Adobe Photoshop'|b'Social Media Marketing'|b...  \n",
      "13  b'Traduccin'|b'English'|b'Article Writing'|b'C...  \n",
      "14  b'Article Writing'|b'Business Writing'|b'Creat...  \n",
      "15  b'Journalistic Writing'|b'Audio Editing'|b'Vid...  \n",
      "16  b'Article Writing'|b'Social Media Marketing'|b...  \n",
      "17  b'Marketing'|b'Adobe After Effects'|b'Adobe Ph...  \n",
      "18  b'Article Writing'|b'Creative Writing'|b'Copyw...  \n",
      "19  b'CodeIgniter'|b'JavaScript'|b'AJAX'|b'jQuery'...  \n",
      "20  b'Graphic Design'|b'WordPress'|b'Adobe Photosh...  \n",
      "21  b'Spanish Translation'|b'Transcription'|b'Engl...  \n",
      "22  b'SEO'|b'WordPress'|b'Web design'|b'Facebook'|...  \n",
      "23  b'Article Writing'|b'Feature Writing'|b'Spanis...  \n",
      "24  b'Voice Talent'|b'Audio Editing'|b'Voice Actin...  \n",
      "25  b'Microsoft PowerPoint'|b'Portuguese'|b'Articl...  \n",
      "26  b'WordPress'|b'Adobe Photoshop'|b'Web design'|...  \n",
      "27  b'C#'|b'Android'|b'Ionic Framework'|b'Web Serv...  \n",
      "28  b'Corporate Brand Identity'|b'User Interface'|...  \n",
      "29  b'Feature Writing'|b'Research'|b'Creative Writ...  \n"
     ]
    }
   ],
   "source": [
    "### start scraping\n",
    "\n",
    "# there are pages to show the result\n",
    "for i in range( 1, (limit + 1) ):\n",
    "    url = base_url + str(i)\n",
    "    # get web code\n",
    "    r = requests.get( url )\n",
    "\n",
    "    # Beautiful Soup parser\n",
    "    soup = BeautifulSoup( r.text, 'html.parser' )\n",
    "\n",
    "    t = soup.find_all( 'div', class_=target_class )\n",
    "    # if the result is empty\n",
    "    if( len( t ) == 0 ): break\n",
    "\n",
    "    for workers in t:\n",
    "        row = []\n",
    "        soup = BeautifulSoup( str(workers), 'html.parser' )\n",
    "\n",
    "        # get the name of the applicant\n",
    "        name = ''\n",
    "        for e in soup.find_all( 'span' ):\n",
    "            if( e.parent.name == 'a' and e.parent.parent.name == 'h3' ):\n",
    "                name = clear_str( e.text )\n",
    "                continue # only one element will contain this information\n",
    "\n",
    "        row.append( name )\n",
    "\n",
    "        # get the nationality of the applicant\n",
    "        e = soup.find( country_element, class_=country_class )\n",
    "        # temporary soup parser\n",
    "        t_soup = BeautifulSoup( str(e), 'html.parser' )\n",
    "        e = t_soup.find( 'a' )\n",
    "        country = clear_str( e.text )\n",
    "        row.append( country )\n",
    "\n",
    "        # rating\n",
    "        e = soup.find( rating_element, class_=rating_class )\n",
    "        res =  str(e[ 'title' ]).replace( ' of 5.00', '' )\n",
    "        res = clear_str( res )\n",
    "        res = float(res)\n",
    "        rating = clear_str( res )\n",
    "        row.append( rating )\n",
    "\n",
    "        # if this applicant is tagged as 'pro'\n",
    "        e = soup.find( pro_element, class_=pro_class )\n",
    "        is_pro = 0\n",
    "        if( e != None ): is_pro = 1\n",
    "        row.append( is_pro )\n",
    "\n",
    "        # find hourly rate\n",
    "        e = soup.find( hrrate_element, class_=hrrate_class )\n",
    "        hourly_rate = invalid_val()\n",
    "        if( e != None ): hourly_rate = numeric( e[ 'data-amount' ], type='float' )\n",
    "        row.append( hourly_rate )\n",
    "\n",
    "        # get the completed_jobs & hours_worked\n",
    "        e = soup.find( experience_element, class_=experience_class )\n",
    "        # temporary soup parser\n",
    "        t_soup = BeautifulSoup( str(e), 'html.parser' )\n",
    "        projects = hours = invalid_val()\n",
    "        for e in t_soup.find_all( 'span' ):\n",
    "            res = ''\n",
    "            try:  # make sure the soup find the element\n",
    "                # remove the text heading\n",
    "\n",
    "                if( 'Completed' in e.text ): projects = numeric( str(e.text).replace( 'Completed projects: ', '' ), type='int' )\n",
    "                else: hours = numeric( str(e.text).replace( 'Hours worked in hourly projects: ', '' ), type='int' )\n",
    "            except: pass\n",
    "        row.append( projects )\n",
    "        row.append( hours )\n",
    "\n",
    "        # get all the skills the applicant has\n",
    "        skills = []\n",
    "        e = soup.find_all( skill_element, class_=skill_class )\n",
    "        for s in e:\n",
    "            res = clear_comma( str(s.text).encode( 'ascii', 'ignore' ) )\n",
    "            skills.append( res )\n",
    "        skills = \"|\".join( skills )\n",
    "        row.append( skills )\n",
    "\n",
    "        # commit the result\n",
    "        df = df.append( pd.Series( row, index=df.columns ), ignore_index=True )\n",
    "\n",
    "# print the result\n",
    "print( df )"
   ]
  },
  {
   "cell_type": "code",
   "execution_count": null,
   "metadata": {},
   "outputs": [],
   "source": []
  }
 ],
 "metadata": {
  "kernelspec": {
   "display_name": "Python 3",
   "language": "python",
   "name": "python3"
  },
  "language_info": {
   "codemirror_mode": {
    "name": "ipython",
    "version": 3
   },
   "file_extension": ".py",
   "mimetype": "text/x-python",
   "name": "python",
   "nbconvert_exporter": "python",
   "pygments_lexer": "ipython3",
   "version": "3.7.0"
  }
 },
 "nbformat": 4,
 "nbformat_minor": 2
}
