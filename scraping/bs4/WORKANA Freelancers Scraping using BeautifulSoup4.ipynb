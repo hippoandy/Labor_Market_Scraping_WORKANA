{
 "cells": [
  {
   "cell_type": "code",
   "execution_count": 16,
   "metadata": {},
   "outputs": [
    {
     "data": {
      "text/plain": [
       "'\\nThis program scraps the information from the freelancers section of the WORKANA website.\\nThis program utilizes the BeautifulSoup 4 library for web scraping.\\n\\nAuthor: Yu-Chang (Andy) Ho\\nDate: 2018/11/27\\n'"
      ]
     },
     "execution_count": 16,
     "metadata": {},
     "output_type": "execute_result"
    }
   ],
   "source": [
    "'''\n",
    "This program scraps the information from the freelancers section of the WORKANA website.\n",
    "This program utilizes the BeautifulSoup 4 library for web scraping.\n",
    "\n",
    "Author: Yu-Chang (Andy) Ho\n",
    "Date: 2018/11/27\n",
    "'''"
   ]
  },
  {
   "cell_type": "code",
   "execution_count": 17,
   "metadata": {},
   "outputs": [
    {
     "name": "stdout",
     "output_type": "stream",
     "text": [
      "This section import the required libaries.\n"
     ]
    }
   ],
   "source": [
    "# import the required libraries\n",
    "from bs4 import BeautifulSoup\n",
    "import requests\n",
    "import pandas as pd\n",
    "import numpy as np\n",
    "\n",
    "print( 'This section import the required libaries.' )"
   ]
  },
  {
   "cell_type": "code",
   "execution_count": 18,
   "metadata": {},
   "outputs": [
    {
     "name": "stdout",
     "output_type": "stream",
     "text": [
      "Here are the parameters that able to be modified.\n"
     ]
    }
   ],
   "source": [
    "# parameters -------------------------------------------------------\n",
    "\n",
    "target_class = 'js-worker'      # the frame containing worker info.\n",
    "\n",
    "country_element = 'span'        # the element containing nationality\n",
    "country_class = 'country-name'\n",
    "rating_element = 'span'         # the element containing rating\n",
    "rating_class = 'stars-bg'\n",
    "pro_element = 'span'            # the element containing pro tag\n",
    "pro_class = 'pro-label'\n",
    "hrrate_element = 'span'         # the element containing hr_rate\n",
    "hrrate_class = 'monetary-amount'\n",
    "experience_element = 'p'        # the element containing experience info.\n",
    "experience_class = 'hidden-xs'\n",
    "skill_element = 'a'             # the element containing skills\n",
    "skill_class = 'skill'\n",
    "\n",
    "# csv header\n",
    "header = 'name,country,rating,is_pro,hourly_rate,completed_jobs,hours_worked,skills'\n",
    "# the website url\n",
    "base_url = 'https://www.workana.com/en/freelancers?page='\n",
    "# a large number to cover all the page number\n",
    "limit = 3\n",
    "\n",
    "# ------------------------------------------------------- parameters\n",
    "\n",
    "print( 'Here are the parameters that able to be modified.' )"
   ]
  },
  {
   "cell_type": "code",
   "execution_count": 19,
   "metadata": {},
   "outputs": [
    {
     "name": "stdout",
     "output_type": "stream",
     "text": [
      "Here are some function to clear the data value.\n"
     ]
    }
   ],
   "source": [
    "# self-defined functions -------------------------------------------\n",
    "def invalid_val(): return 'N/A'\n",
    "# make sure there is no special char in a value\n",
    "def clear_str( text ):\n",
    "    text = str(text).replace( '\\n', '' ).replace( '\\r', '' ).replace( '\\t', '' )\n",
    "    return text\n",
    "# replace ',' in the value\n",
    "def clear_comma( text ):\n",
    "    return str(text).replace( ',', '-' )\n",
    "# make sure the value is numeric, otherwise return invalid_val()\n",
    "def numeric( val, type='float' ):\n",
    "    val = str(val) # make sure it is not 'NoneType'\n",
    "    try:\n",
    "        # make sure the value is numeric\n",
    "        if( type == 'int' ): val = int(val)\n",
    "        else: val = float(val)\n",
    "        return str(val)\n",
    "    except: return invalid_val()\n",
    "# ------------------------------------------- self-defined functions\n",
    "\n",
    "print( 'Here are some function to clear the data value.' )"
   ]
  },
  {
   "cell_type": "code",
   "execution_count": 20,
   "metadata": {},
   "outputs": [
    {
     "name": "stdout",
     "output_type": "stream",
     "text": [
      "Preparing the data storage.\n"
     ]
    }
   ],
   "source": [
    "###  prepare the temporary storage\n",
    "\n",
    "# header\n",
    "header = ['name', 'country', 'rating', 'is_pro', 'hourly_rate', 'completed_jobs', 'hours_worked', 'skills']\n",
    "# dataframe to contain the data\n",
    "df = pd.DataFrame( columns=header )\n",
    "\n",
    "print( 'Preparing the data storage.' )"
   ]
  },
  {
   "cell_type": "code",
   "execution_count": 21,
   "metadata": {},
   "outputs": [
    {
     "name": "stdout",
     "output_type": "stream",
     "text": [
      "                           name    country rating is_pro hourly_rate  \\\n",
      "0                 Julio Henrick     Brazil    4.9      1        60.0   \n",
      "1                         Sammy     Brazil   4.92      1        60.0   \n",
      "2                    luisana C.  Venezuela   4.95      1         5.0   \n",
      "3                   Veronica S.  Argentina    5.0      1       580.0   \n",
      "4                     Hector D.  Venezuela   4.91      0         5.0   \n",
      "5                  Miguel Jaime   Colombia    4.8      1     45000.0   \n",
      "6                 Valter Junior     Brazil   4.92      1        30.0   \n",
      "7            Twixt Technologies      India   4.84      1         5.0   \n",
      "8          Lucas Gabriel Coelho     Brazil   4.77      1        20.0   \n",
      "9                   Ana Martins     Brazil   4.73      1        42.0   \n",
      "10                      Cris M.     Brazil   4.88      1         N/A   \n",
      "11              Gabriel Lizardo  Venezuela   4.85      1        20.0   \n",
      "12               Laíza Carvalho     Brazil   4.88      1        30.0   \n",
      "13                  Liz Andreia     Brazil   4.86      1         N/A   \n",
      "14                      Luis M.  Venezuela   4.92      1         5.0   \n",
      "15                      Dani R.     Brazil   4.96      1        40.0   \n",
      "16                Lucas Estevam     Brazil   4.76      1        20.0   \n",
      "17       José Luis Dias Miranda     Brazil   4.85      0        15.0   \n",
      "18                    Samuel R.  Venezuela   4.75      1        17.0   \n",
      "19                     Oscar G.  Argentina   4.95      1         N/A   \n",
      "20                    Filipe F.     Brazil    5.0      1        45.0   \n",
      "21                    Thiago M.  Venezuela   4.78      1        30.0   \n",
      "22                    Bruno Ask     Brazil   4.88      1         N/A   \n",
      "23             ICETEC Solutions     Brazil    5.0      1       100.0   \n",
      "24                    Javier V.   Colombia   4.93      1        16.0   \n",
      "25           Suzana de Oliveira     Brazil   4.91      1        50.0   \n",
      "26            Caroline Schwabel   Portugal   4.85      1        20.0   \n",
      "27  Assul Odette Miguel Puertas     Mexico   4.96      1       373.0   \n",
      "28                 Thiago Reges     Brazil   4.98      1        48.0   \n",
      "29               Sergio Vergara      Spain   4.63      0        17.0   \n",
      "\n",
      "   completed_jobs hours_worked  \\\n",
      "0             288           11   \n",
      "1             352            0   \n",
      "2             290          892   \n",
      "3              27            1   \n",
      "4              14            0   \n",
      "5             168            0   \n",
      "6             208           36   \n",
      "7              24           54   \n",
      "8            2500           43   \n",
      "9              71            5   \n",
      "10             48            1   \n",
      "11             94            3   \n",
      "12            354           15   \n",
      "13             85            0   \n",
      "14            217            0   \n",
      "15            159            0   \n",
      "16             74            1   \n",
      "17             70            0   \n",
      "18             16            0   \n",
      "19             18            0   \n",
      "20             12            0   \n",
      "21             54            2   \n",
      "22             63            1   \n",
      "23             18           38   \n",
      "24             85            0   \n",
      "25             98            0   \n",
      "26            491            6   \n",
      "27            214           22   \n",
      "28            201            0   \n",
      "29             89            0   \n",
      "\n",
      "                                               skills  \n",
      "0   Logo design|Illustration|Corporate Brand Ident...  \n",
      "1   Graphic Design|Facebook|Corporate Brand Identi...  \n",
      "2   Microsoft Office|English Translation|Italian T...  \n",
      "3   Spanish Translation|Portuguese|Feature Writing...  \n",
      "4   C#|CodeIgniter|Ruby on Rails|Android|Ionic Fra...  \n",
      "5   Branding|Art Direction|Logo design|Trademark|C...  \n",
      "6   Article Writing|Social Media Marketing|Content...  \n",
      "7   E-commerce|AngularJS|jQuery|MySQL|PHP|CodeIgni...  \n",
      "8   Adobe Photoshop|Adobe After Effects|Copywritin...  \n",
      "9   Article Writing|Online Writing|Advertising on ...  \n",
      "10  Voice Talent|Audio Editing|Voice Acting|Voice ...  \n",
      "11  Spanish Translation|Transcription|English Tran...  \n",
      "12  Adobe Photoshop|Social Media Marketing|Busines...  \n",
      "13  Article Writing|Blogs|WordPress|Copywriting|Cr...  \n",
      "14  Journalistic Writing|Audio Editing|Video Editi...  \n",
      "15  Article Writing|Business Writing|Creative Writ...  \n",
      "16  Traducción|English|Article Writing|Creative Wr...  \n",
      "17  Marketing|Adobe After Effects|Adobe Photoshop|...  \n",
      "18  Graphic Design|WordPress|Adobe Photoshop|Marke...  \n",
      "19  Article Writing|Feature Writing|Spanish Transl...  \n",
      "20  WordPress|Adobe Photoshop|Web design|Coreldraw...  \n",
      "21  Animation|Video Editing|Sound Design|Audio Edi...  \n",
      "22  Article Writing|Creative Writing|Copywriting|e...  \n",
      "23  C#|Android|Ionic Framework|Web Services|Larave...  \n",
      "24  Graphic Design|Advertising|Animation|Video Edi...  \n",
      "25  SEO|WordPress|Web design|Facebook|Portuguese T...  \n",
      "26  Microsoft PowerPoint|Portuguese|Article Writin...  \n",
      "27  Feature Writing|Research|Creative Writing|Blog...  \n",
      "28  User Interface|User Experience Design|Adobe Ph...  \n",
      "29  WordPress|Graphic Design|Web design|Link Build...  \n"
     ]
    }
   ],
   "source": [
    "### start scraping\n",
    "\n",
    "# there are pages to show the result\n",
    "for i in range( 1, (limit + 1) ):\n",
    "    url = base_url + str(i)\n",
    "    # get web code\n",
    "    r = requests.get( url )\n",
    "\n",
    "    # Beautiful Soup parser\n",
    "    soup = BeautifulSoup( r.text, 'html.parser' )\n",
    "\n",
    "    t = soup.find_all( 'div', class_=target_class )\n",
    "    # if the result is empty\n",
    "    if( len( t ) == 0 ): break\n",
    "\n",
    "    for workers in t:\n",
    "        row = []\n",
    "        soup = BeautifulSoup( str(workers), 'html.parser' )\n",
    "\n",
    "        # get the name of the applicant\n",
    "        name = ''\n",
    "        for e in soup.find_all( 'span' ):\n",
    "            if( e.parent.name == 'a' and e.parent.parent.name == 'h3' ):\n",
    "                name = clear_str( e.text )\n",
    "                continue # only one element will contain this information\n",
    "\n",
    "        row.append( name )\n",
    "\n",
    "        # get the nationality of the applicant\n",
    "        e = soup.find( country_element, class_=country_class )\n",
    "        # temporary soup parser\n",
    "        t_soup = BeautifulSoup( str(e), 'html.parser' )\n",
    "        e = t_soup.find( 'a' )\n",
    "        country = clear_str( e.text )\n",
    "        row.append( country )\n",
    "\n",
    "        # rating\n",
    "        e = soup.find( rating_element, class_=rating_class )\n",
    "        res =  str(e[ 'title' ]).replace( ' of 5.00', '' )\n",
    "        res = clear_str( res )\n",
    "        res = float(res)\n",
    "        rating = clear_str( res )\n",
    "        row.append( rating )\n",
    "\n",
    "        # if this applicant is tagged as 'pro'\n",
    "        e = soup.find( pro_element, class_=pro_class )\n",
    "        is_pro = 0\n",
    "        if( e != None ): is_pro = 1\n",
    "        row.append( is_pro )\n",
    "\n",
    "        # find hourly rate\n",
    "        e = soup.find( hrrate_element, class_=hrrate_class )\n",
    "        hourly_rate = invalid_val()\n",
    "        if( e != None ): hourly_rate = numeric( e[ 'data-amount' ], type='float' )\n",
    "        row.append( hourly_rate )\n",
    "\n",
    "        # get the completed_jobs & hours_worked\n",
    "        e = soup.find( experience_element, class_=experience_class )\n",
    "        # temporary soup parser\n",
    "        t_soup = BeautifulSoup( str(e), 'html.parser' )\n",
    "        projects = hours = invalid_val()\n",
    "        for e in t_soup.find_all( 'span' ):\n",
    "            res = ''\n",
    "            try:  # make sure the soup find the element\n",
    "                # remove the text heading\n",
    "\n",
    "                if( 'Completed' in e.text ): projects = numeric( str(e.text).replace( 'Completed projects: ', '' ), type='int' )\n",
    "                else: hours = numeric( str(e.text).replace( 'Hours worked in hourly projects: ', '' ), type='int' )\n",
    "            except: pass\n",
    "        row.append( projects )\n",
    "        row.append( hours )\n",
    "\n",
    "        # get all the skills the applicant has\n",
    "        skills = []\n",
    "        e = soup.find_all( skill_element, class_=skill_class )\n",
    "        for s in e:\n",
    "            res = clear_comma( s.text )\n",
    "            skills.append( res )\n",
    "        skills = \"|\".join( skills )\n",
    "        row.append( skills )\n",
    "\n",
    "        # commit the result\n",
    "        df = df.append( pd.Series( row, index=df.columns ), ignore_index=True )\n",
    "\n",
    "# print the result\n",
    "print( df )"
   ]
  },
  {
   "cell_type": "code",
   "execution_count": null,
   "metadata": {},
   "outputs": [],
   "source": []
  }
 ],
 "metadata": {
  "kernelspec": {
   "display_name": "Python 3",
   "language": "python",
   "name": "python3"
  },
  "language_info": {
   "codemirror_mode": {
    "name": "ipython",
    "version": 3
   },
   "file_extension": ".py",
   "mimetype": "text/x-python",
   "name": "python",
   "nbconvert_exporter": "python",
   "pygments_lexer": "ipython3",
   "version": "3.6.6"
  }
 },
 "nbformat": 4,
 "nbformat_minor": 2
}
